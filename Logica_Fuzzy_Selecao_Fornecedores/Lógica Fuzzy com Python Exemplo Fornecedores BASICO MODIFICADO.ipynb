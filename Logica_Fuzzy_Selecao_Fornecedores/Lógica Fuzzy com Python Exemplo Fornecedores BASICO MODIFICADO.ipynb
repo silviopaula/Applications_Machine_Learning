{
 "cells": [
  {
   "cell_type": "markdown",
   "metadata": {
    "id": "CX-X71xuHBiE"
   },
   "source": [
    "# Lógica Fuzzy aplicado a seleção de fornecedores Verdes.\n",
    "\n",
    "Este exemplo é baseado no artigo **INFERÊNCIA FUZZY APLICADA À SELEÇÃO DE FORNECEDORES VERDES** de Galo *et al*., 2016. \n",
    "\n",
    "Os aspectos referentes a sustentabilidade ambiental estão cada vez mais importantes nos processos de seleção de grandes fornecedores. Neste contexto, além dos fatores tradicionalmente avaliados como custo, qualidade, tempo de entrega, a responsabilidade ambiental do fornecedor passou a ter um papel de destaque no processo de seleção de fornecedores [1]. \n",
    "\n",
    "Em geral as seleções de fornecedores são o típico problema de decisão multicritério, que envolve fatores qualitativos e quantitativos. No contexto da seleção de fornecedores verdes, mais fatores devem ser considerados na tomada de decisão, aumentando ainda mais a complexidade do processo. Galo *et al*., 2016, resumem na tabela abaixo os critérios mais representativos para seleção de fornecedores verdes, baseado em diversos estudos.\n",
    "\n",
    "Tabela - Principais critérios utilizados para a seleção de fornecedores verdes.\n",
    "\n",
    "\n",
    "| Critério                    | Definições                                                                                                                                                                                                                      | Número de citações |\n",
    "| --------------------------- | ------------------------------------------------------------------------------------------------------------------------------------------------------------------------------------------------------------------------------- | ------------------ |\n",
    "| Sistema de Gestão Ambiental | Certificações ambientais como ISSO 14000, políticas  ambientais, planejamento de objetivos ambientais controle de atividades ambientais;                                                                                         | 11                 |\n",
    "| Qualidade                   | Aspectos que melhoram a qualidade dos produtos;                                                                                                                                                                                 | 8                  |\n",
    "| Serviço                     | Nível de processamento do pedido do cliente. Também pode envolver o grau de satisfação do cliente com relação ao fornecedor;                                                                                                    | 7                  |\n",
    "| Tecnologia                  | Fatores que facilitam o desenvolvimento de novos produtos do fornecedor e que podem atualizar os produtos da empresa;                                                                                                           | 5                  |\n",
    "| Imagem Ambiental            | Situação dos fornecedores sobre a responsabilidade ambiental da empresa, opinião pública sobre questões ambientais dos fornecedores;                                                                                             | 4                  |\n",
    "| Projeto Ambiental           | Projeto de produtos para o consumo reduzido de materiais e energia, projeto de produtos voltados a reutilização, reciclagem, recuperação de materiais, projeto de produtos para evitar ou reduzir o uso de materiais perigosos; | 3                  |\n",
    "| Competências Ambientais     | Fatores que mostram as competências dos fornecedor em melhorar sua produção verde.                                                                                                                                              | 3                  |\n",
    "| Desempenho Ambiental        | Impactos ambientais que ocorrem ao longo do ciclo de vida do produto;                                                                                                                                                           | 3                  |\n",
    "| Preço                       | Menor preço praticado sem que haja comprometimento da qualidade do produto oferecido;                                                                                                                                           | 3                  |\n",
    "| Custo                       | Preço de aquisição de matérias primas, custo de transporte, custo de processamento de pedidos e custo de armazenagem                                                                                                            | 3                  |\n",
    "Fonte: Galo *et al*., 2016\n",
    "\n",
    "Dentro deste contexto, a lógica Fuzzy pode ser uma importante ferramenta para auxiliar a tomada de decisão."
   ]
  },
  {
   "cell_type": "markdown",
   "metadata": {},
   "source": [
    "### LÓGICA FUZZY\n",
    "\n",
    "Problemas envolvendo fatores qualitativos podem gerar complexidade em sua valoração, pois as informações apresentam um caráter impreciso devido à subjetividade presente na informação. Nesta perspectiva, a teoria dos conjuntos fuzzy, descrita por Zadeh (1965), oferecem um caminho para o mapeamento das relações existentes entre um conjunto fuzzy e seus subconjuntos, auxiliando a modelagem de problemas que envolvem informações qualitativas e que não são quantificáveis por natureza [1]. \n",
    "\n",
    "Um conjunto fuzzy é uma classe de objetos caracterizada por uma função de pertinência, por meio da qual se atribui o grau de inclusão dos objetos que, diferentemente da teoria clássica (binária), podem estar parcialmente incluídos em mais de um conjunto simultaneamente. Deste modo, os sistemas fuzzy vêm ganhando importância nos negócios, devido à capacidade de tratar informações qualitativas e, também, quantitativas [1].\n",
    "\n",
    "Exemplos como (caro, barato, alto, baixo, médio, velho, novo), são termos \"fuzzy\" no sentido que envolvem imprecisão e são conceitos vagos de difícil quantificação [2]. Portanto, o conceito \"fuzzy\" pode ser entendido como uma situação em que não podemos responder simplesmente \"Sim\" ou \"Não\". Mesmo conhecendo as informações necessárias sobre a situação, dizer algo entre \"sim\" e \"não\" como por exemplo \"talvez\", \"quase\", ....se torna mais apropriado [2].\n",
    "\n",
    "Portanto, a lógica fuzzy é uma generalização da lógica padrão, na qual um conceito pode possuir um grau de verdade entre 0,0 e 1,0).  A lógica fuzzy ou difusa deve ser usada para raciocinar sobre conceitos inerentemente vagos, como 'altura'. Por exemplo, podemos dizer que uma pessoa é alta, com grau de verdade de 0,9 [3].\n",
    "\n",
    "A Lógica difusa é uma técnica para representar e manipular informações incertas. Na lógica proposicional mais tradicional, cada fato ou proposição, como 'vai chover amanhã', deve ser verdadeiro ou falso. o mundo envolve algum grau de incerteza. Como a teoria da probabilidade, a lógica difusa anexa valores numéricos entre 0 e 1 a cada proposição para representar a incerteza. Mas enquanto a teoria da probabilidade mede a probabilidade de a proposição ser correta, a lógica Fuzzy mede o grau de qual proposição está correta [3].\n",
    "\n",
    "A distinção importante entre informação probabilística e lógica difusa é que não há incerteza sobre a idade de uma pessoa, mas sim sobre o grau em que ele se enquadra na categoria 'jovem'. Muitos termos, como 'alto', 'rico', 'famoso' ou 'escuro' são válidos apenas até certo ponto quando aplicados a um indivíduo ou situação em particular. A lógica difusa tenta medir esse grau e permitir que os computadores manipulem tais informações [3].\n",
    "\n",
    "Em consequência disso, nos últimos anos, tem havido um interesse crescente em lógica fuzzy, tanto na indústria quanto na academia. As aplicações atuais incluem modelagem, avaliação, otimização, tomada de decisão, controle, diagnóstico e informação. Em particular, a lógica fuzzy é mais adequada para controle [3].\n",
    "\n"
   ]
  },
  {
   "cell_type": "markdown",
   "metadata": {},
   "source": [
    "## Principais conceitos da lógica Fuzzy\n",
    "\n",
    "![](img/D:/OneDrive/Área de Trabalho/Logica_Fuzzy/Diagrama_fuzzy.JPG)\n",
    "\n",
    "\n",
    "Fonte: https://medium.com/creditas-tech/combinando-modelos-de-machine-learning-com-l%C3%B3gica-fuzzy-parte-1-b5a9f0761a5d\n",
    "\n",
    "\n",
    "**1) Entrada e saída crisp**                                       \n",
    "Cada variável fuzzy possui um valor chamado de valor crisp, que nada mais é do que um número dentro de um domínio pré-determinado (na lógica fuzzy, esse domínio é chamado de universo). O universo então é a definição do intervalo dos valores no qual se encontra a variável e, por isso, precisamos definir quais são seus valores mínimo e máximo [4].\n",
    "\n",
    "**2) Fuzzificação**                                          \n",
    "Essa etapa então consiste em transformar o valor crisp da entrada para um valor fuzzy e, para isso, precisamos definir os termos e funções de pertinência para esse sistema:\n",
    "\n",
    "**Termo** Uma variável fuzzy pode ter diversos termos que podem ser utilizados para descrevê-la. Todos esses termos compõem o chamado conjunto fuzzy e são utilizados para definir qual será o valor fuzzy dessa variável fuzzy. Exemplos de termos usados para qualificar a variável fuzzy são: Ruim, Medio, Bom [4].\n",
    "\n",
    "**Função de Pertinência** Cada termo terá uma função de pertinência que definirá como o valor crisp será mapeado considerando uma escala (que varia entre 0 e 1) que reflete o grau de pertinência do valor para aquele termo. A função então define o pertencimento de um determinado elemento a um conjunto. Essas funções podem ter diferentes formatos (Triângular, sigmoidal, trapezoidal, gaussiana, etc) [4].\n",
    "\n",
    "**3) Regras Fuzzy**                        \n",
    "São utilizadas para ligar diferentes variáveis fuzzy, de modo que elas descrevem como uma ou mais variáveis fuzzy estão relacionadas umas com as outras.\n",
    "Cada uma das regras que compõem o conjunto de regras fuzzy são expressas por meio de declaração de IF/THEN. A parte do IF é chamada de antecedente, enquanto que a parte do THEN é chamada de consequente [4].\n",
    "\n",
    "**4) Inferência Fuzzy**\n",
    "Nessa etapa, temos a análise das regras definidas na etapa anterior com as entradas fuzzy de acordo com as funções de pertinência da etapa de fuzzificação para encontrarmos a região resultante do consequente [4].\n",
    "Existem diversas técnicas de inferência fuzzy, mas a mais utilizada é o método Mamdani e depois o Sugeno [4].\n",
    "\n",
    "**5) Defuzzificação** \n",
    "Nessa etapa, precisamos converter a saída da inferência fuzzy (que é a região resultante do consequente), feita com base nas funções de pertinência e nas regras, para um valor crisp. Diversos métodos podem ser utilizados para fazer essa conversão (Centroide, Média dos máximos, Mínimo dos máximos, Máximo dos máximos). O método mais utilizado é o centroide [4].\n",
    "\n",
    "**Resumo das etapas necessárias para aplicar a lógica Fuzzy**\n",
    "\n",
    "- Identificar as variáveis (tanto as de entrada quanto de saída);\n",
    "- Definir os universos e termos de cada uma das variáveis;\n",
    "- Definir as funções de pertinência para cada subconjunto fuzzy;\n",
    "- Criar as regras fuzzy relacionando os antecedentes e consequentes;\n",
    "- Fazer a fuzzificação de acordo com o método escolhido;\n",
    "- Agregar as saídas obtidas após a fuzzificação para cada regra de forma a se obter um único conjunto fuzzy para cada consequente;\n",
    "- Fazer a defuzzificação para se obter um número que represente o consequente no “mundo real”;\n",
    "\n",
    "**Nota** Para mais detalhes: https://medium.com/creditas-tech/combinando-modelos-de-machine-learning-com-l%C3%B3gica-fuzzy-parte-1-b5a9f0761a5d "
   ]
  },
  {
   "cell_type": "markdown",
   "metadata": {},
   "source": [
    "## Aplicando a lógica Fuzzy\n",
    "\n",
    "Para este exercício serão consideradas duas fases de decisão:\n",
    "\n",
    "**Fase 1** : Qualificação dos fornecedores no âmbito estratégico observando os critérios ambientais;                            \n",
    "**Fase 2** : Qualificação dos fornecedores a nível operacional, buscam atender às necessidades imediatas da organização em relação às operações de produção.\n",
    "\n",
    "\n",
    "Para a formulação do exercício serão utilizados os critérios mais citados na literatura de seleção de fornecedores verdes.\n",
    "\n",
    "**três critérios ambientais** \n",
    "\n",
    "- (sistemas de gestão ambiental (SGA); \n",
    "- imagem ambiental (IA);\n",
    "- projeto ambiental (PA);\n",
    "\n",
    "**três critérios operacionais** \n",
    "\n",
    "- Custo; \n",
    "- Qualidade;\n",
    "- Entregapara\n",
    "\n",
    "#### Antecedentes (entradas)\n",
    "\n",
    "**Sistemas de Gestão Ambiental (SGA)**: irá variar de 0 a 10.\n",
    "- Ruim, Médio, Bom \n",
    "\n",
    "**Imagem Ambiental (IA):** irá variar de 0 a 10.\n",
    "- Ruim, Médio, Bom\n",
    "\n",
    "**Projeto Ambiental (PA)**  irá variar de 0 a 10.\n",
    "- Ruim, Médio, Bom\n",
    "\n",
    "#### Consequente (saída)   \n",
    "\n",
    "**Status**: Qual a pontuação você daria para o fornecedor, entre 0 e 10?\n",
    "- Aprovado, Reprovado"
   ]
  },
  {
   "cell_type": "markdown",
   "metadata": {
    "id": "8PwkIsoEtfbp"
   },
   "source": [
    "### Instalação e importação das bibliotecas\n",
    "\n",
    "- Documentação: https://pythonhosted.org/scikit-fuzzy/overview.html"
   ]
  },
  {
   "cell_type": "code",
   "execution_count": null,
   "metadata": {
    "colab": {
     "base_uri": "https://localhost:8080/"
    },
    "executionInfo": {
     "elapsed": 6881,
     "status": "ok",
     "timestamp": 1642714387746,
     "user": {
      "displayName": "silvio de paula",
      "photoUrl": "https://lh3.googleusercontent.com/a-/AOh14GjRKkIAfquaCGsjTgVh42Gt2-3pTinRqGnTUVE_yw=s64",
      "userId": "06026748890410338609"
     },
     "user_tz": 180
    },
    "id": "ZvFpBFP12s-L",
    "outputId": "a3cf7dc3-bac9-4d14-95f7-40da1abd0481"
   },
   "outputs": [],
   "source": [
    "!pip install scikit-fuzzy"
   ]
  },
  {
   "cell_type": "code",
   "execution_count": 5,
   "metadata": {
    "executionInfo": {
     "elapsed": 587,
     "status": "ok",
     "timestamp": 1642714402174,
     "user": {
      "displayName": "silvio de paula",
      "photoUrl": "https://lh3.googleusercontent.com/a-/AOh14GjRKkIAfquaCGsjTgVh42Gt2-3pTinRqGnTUVE_yw=s64",
      "userId": "06026748890410338609"
     },
     "user_tz": 180
    },
    "id": "YnYpcDYa22ww"
   },
   "outputs": [],
   "source": [
    "# Importando as bibliotecas\n",
    "import numpy as np\n",
    "import pandas as pd\n",
    "import skfuzzy as fuzz\n",
    "from skfuzzy import control as ctrl\n",
    "import matplotlib.pyplot as plt\n",
    "\n",
    "import warnings\n",
    "warnings.filterwarnings(\"ignore\")"
   ]
  },
  {
   "cell_type": "markdown",
   "metadata": {
    "id": "9HMJN-K5zaHE"
   },
   "source": [
    "## FASE 1: Critérios Ambientais\n",
    "\n",
    "### Definindo os Antecedentes e consequente"
   ]
  },
  {
   "cell_type": "code",
   "execution_count": 6,
   "metadata": {
    "executionInfo": {
     "elapsed": 434,
     "status": "ok",
     "timestamp": 1642714430894,
     "user": {
      "displayName": "silvio de paula",
      "photoUrl": "https://lh3.googleusercontent.com/a-/AOh14GjRKkIAfquaCGsjTgVh42Gt2-3pTinRqGnTUVE_yw=s64",
      "userId": "06026748890410338609"
     },
     "user_tz": 180
    },
    "id": "0rOUgSCVdmpj"
   },
   "outputs": [
    {
     "data": {
      "text/plain": [
       "array([ 0,  1,  2,  3,  4,  5,  6,  7,  8,  9, 10])"
      ]
     },
     "execution_count": 6,
     "metadata": {},
     "output_type": "execute_result"
    }
   ],
   "source": [
    "# Gerar os antecedentes, ou seja, os valores de entrada que irão variar de 0 a 10\n",
    "SGA = ctrl.Antecedent(np.arange(0,11,1), 'SGA')\n",
    "IA  = ctrl.Antecedent(np.arange(0,11,1), 'IA')\n",
    "PA  = ctrl.Antecedent(np.arange(0,11,1), 'PA')\n",
    "\n",
    "# Gerar o consequente, ou seja, os valores de saída\n",
    "Status = ctrl.Consequent(np.arange(0,11,1), 'Status')\n",
    "\n",
    "# Visualizar universo\n",
    "Status.universe"
   ]
  },
  {
   "cell_type": "markdown",
   "metadata": {
    "id": "j8260XKE9Kbs"
   },
   "source": [
    "### Definindo as funções de Pertinência"
   ]
  },
  {
   "cell_type": "code",
   "execution_count": 7,
   "metadata": {},
   "outputs": [
    {
     "data": {
      "text/plain": [
       "(None, None, None)"
      ]
     },
     "execution_count": 7,
     "metadata": {},
     "output_type": "execute_result"
    },
    {
     "data": {
      "image/png": "[encoded data removed]",
      "text/plain": [
       "<Figure size 432x288 with 1 Axes>"
      ]
     },
     "metadata": {
      "needs_background": "light"
     },
     "output_type": "display_data"
    },
    {
     "data": {
      "image/png": "[encoded data removed]",
      "text/plain": [
       "<Figure size 432x288 with 1 Axes>"
      ]
     },
     "metadata": {
      "needs_background": "light"
     },
     "output_type": "display_data"
    },
    {
     "data": {
      "image/png": "[encoded data removed]",
      "text/plain": [
       "<Figure size 432x288 with 1 Axes>"
      ]
     },
     "metadata": {
      "needs_background": "light"
     },
     "output_type": "display_data"
    }
   ],
   "source": [
    "# Mapeamento dos valores (Triangulação padrão)            \n",
    "SGA.automf(number = 3, names = ['Ruim', 'Medio', 'Bom'])            \n",
    "IA.automf(number = 3,  names = ['Ruim', 'Medio', 'Bom'])          \n",
    "PA.automf(number = 3,  names = ['Ruim', 'Medio', 'Bom'])           \n",
    "\n",
    "# Plotar            \n",
    "SGA.view(), IA.view(), PA.view()"
   ]
  },
  {
   "cell_type": "markdown",
   "metadata": {},
   "source": [
    "**Visualizar detalhes da função de pertinencia**                     \n",
    "* Quando o SGA=0, o grau de pertinência = 1, para a categoria ruim, e 0 a categoria boa;         \n",
    "* Quando o SGA=5, o grau de pertinência = 1 para categoria Medio, e 0 para as categorias ruim e Bom;           \n",
    "* Quando o SGA=10, o grau de pertinência = 1 para categoria Bom e 0 para a categoria boa;     "
   ]
  },
  {
   "cell_type": "code",
   "execution_count": 11,
   "metadata": {},
   "outputs": [
    {
     "data": {
      "image/png": "[encoded data removed]",
      "text/plain": [
       "<Figure size 432x288 with 1 Axes>"
      ]
     },
     "metadata": {
      "needs_background": "light"
     },
     "output_type": "display_data"
    }
   ],
   "source": [
    "# Visualizar SGA Bom\n",
    "SGA['Bom'].view()"
   ]
  },
  {
   "cell_type": "markdown",
   "metadata": {},
   "source": [
    "**Notas**:      \n",
    "* Podemos observar que a SGA entre > 5 e < 8, ele pode ser considerado 'Bom', porém, com um grau de pertinência baixo para essa categoria 'bom'. \n",
    "* Com SGA > 8 ele pode ser considerado 'Bom' com um grau de pertinencia alto para essa categoria 'bom'."
   ]
  },
  {
   "cell_type": "markdown",
   "metadata": {},
   "source": [
    "É possível definir funções de pertinências mais elaboradas, conforme mostrado no artigo de referência. Porém, para nosso exemplo utilizaremos a função padrão triangular."
   ]
  },
  {
   "cell_type": "code",
   "execution_count": 9,
   "metadata": {},
   "outputs": [
    {
     "data": {
      "image/png": "[encoded data removed]",
      "text/plain": [
       "<Figure size 432x288 with 1 Axes>"
      ]
     },
     "metadata": {
      "needs_background": "light"
     },
     "output_type": "display_data"
    }
   ],
   "source": [
    "# Mapeamento (SGA)\n",
    "SGA_Ex = ctrl.Antecedent(np.arange(0,11,1), 'SGA_Ex')\n",
    "SGA_Ex['Ruim'] = fuzz.trapmf(SGA.universe, [-1, -0, 4, 6])\n",
    "SGA_Ex['Medio'] = fuzz.trimf(SGA.universe, [4, 6, 8])\n",
    "SGA_Ex['Bom'] = fuzz.trapmf(SGA.universe, [6, 8, 10, 11])\n",
    "# Plotar\n",
    "SGA_Ex.view()"
   ]
  },
  {
   "cell_type": "markdown",
   "metadata": {},
   "source": [
    "#### Mapeamento Consequente  "
   ]
  },
  {
   "cell_type": "code",
   "execution_count": 12,
   "metadata": {},
   "outputs": [
    {
     "data": {
      "image/png": "[encoded data removed]",
      "text/plain": [
       "<Figure size 432x288 with 1 Axes>"
      ]
     },
     "metadata": {
      "needs_background": "light"
     },
     "output_type": "display_data"
    }
   ],
   "source": [
    "# Mapeamento do consequente\n",
    "Status['Reprovada'] = fuzz.trapmf(SGA.universe, [-1, 0, 6, 8])\n",
    "Status['Aprovada']  = fuzz.trapmf(SGA.universe, [6, 8, 10, 11])\n",
    "Status.view()"
   ]
  },
  {
   "cell_type": "markdown",
   "metadata": {},
   "source": [
    "**Nota**: O consequente indica que os fornecedores com nota final > 7 serão aprovados, e caso contrario serão reprovados."
   ]
  },
  {
   "cell_type": "markdown",
   "metadata": {},
   "source": [
    "Também é possível elaborar um consequente com outros tipos de funções, como mostra o exemplo abaixo"
   ]
  },
  {
   "cell_type": "code",
   "execution_count": 15,
   "metadata": {},
   "outputs": [
    {
     "data": {
      "image/png": "[encoded data removed]",
      "text/plain": [
       "<Figure size 432x288 with 1 Axes>"
      ]
     },
     "metadata": {
      "needs_background": "light"
     },
     "output_type": "display_data"
    }
   ],
   "source": [
    "# Gerar o consequente, ou seja, os valores de saída\n",
    "Status_EX = ctrl.Consequent(np.arange(0,11,1), 'Status_EX')\n",
    "\n",
    "# Mapeamento do consequente\n",
    "Status_EX['Reprovada'] = fuzz.pimf(SGA.universe, -1, 0, 4, 8)\n",
    "Status_EX['Aprovada']  = fuzz.pimf(SGA.universe, 4, 8, 10, 11)\n",
    "Status_EX.view()"
   ]
  },
  {
   "cell_type": "markdown",
   "metadata": {},
   "source": [
    "### Regras de inferência Fuzzy\n",
    "\n",
    "No total serão 27 regras, que derivam do arranjo com repetição 3\\*3\\*3= 3³ =27\n",
    "\n",
    "|       | *if*    | *if*    | *if*    | *Them*          |\n",
    "| ----- | ----- | ----- | ----- | -------------- |\n",
    "| **Regra** | **SGA**   | **IA**| **PA**    | **SAÍDA** |\n",
    "| 1     | Bom   | Bom   | Bom   | Aprovada  |\n",
    "| 2     | Bom   | Bom   | Médio | Aprovada  |\n",
    "| 3     | Bom   | Bom   | Ruim  | Reprovada |\n",
    "| 4     | Bom   | Médio | Bom   | Aprovada  |\n",
    "| 5     | Bom   | Médio | Médio | Aprovada  |\n",
    "| 6     | Bom   | Médio | Ruim  | Reprovada |\n",
    "| 7     | Bom   | Ruim  | Bom   | Reprovada |\n",
    "| 8     | Bom   | Ruim  | Médio | Reprovada |\n",
    "| 9     | Bom   | Ruim  | Ruim  | Reprovada |\n",
    "| 10    | Médio | Bom   | Bom   | Aprovada  |\n",
    "| 11    | Médio | Bom   | Médio | Aprovada  |\n",
    "| 12    | Médio | Bom   | Ruim  | Reprovada |\n",
    "| 13    | Médio | Médio | Bom   | Aprovada  |\n",
    "| 14    | Médio | Médio | Médio | Reprovada |\n",
    "| 15    | Médio | Médio | Ruim  | Reprovada |\n",
    "| 16    | Médio | Ruim  | Bom   | Reprovada |\n",
    "| 17    | Médio | Ruim  | Médio | Reprovada |\n",
    "| 18    | Médio | Ruim  | Ruim  | Reprovada |\n",
    "| 19    | Ruim  | Bom   | Bom   | Reprovada |\n",
    "| 20    | Ruim  | Bom   | Médio | Reprovada |\n",
    "| 21    | Ruim  | Bom   | Ruim  | Reprovada |\n",
    "| 22    | Ruim  | Médio | Bom   | Reprovada |\n",
    "| 23    | Ruim  | Médio | Médio | Reprovada |\n",
    "| 24    | Ruim  | Médio | Ruim  | Reprovada |\n",
    "| 25    | Ruim  | Ruim  | Bom   | Reprovada |\n",
    "| 26    | Ruim  | Ruim  | Médio | Reprovada |\n",
    "| 27    | Ruim  | Ruim  | Ruim  | Reprovada |"
   ]
  },
  {
   "cell_type": "code",
   "execution_count": 17,
   "metadata": {},
   "outputs": [],
   "source": [
    "# Definindo as regras do problema.\n",
    "Regra_1a  = ctrl.Rule(SGA['Bom']   & IA['Bom']   &  PA['Bom'],   Status['Aprovada'])\n",
    "Regra_2a  = ctrl.Rule(SGA['Bom']   & IA['Bom']   &  PA['Medio'], Status['Aprovada'])\n",
    "Regra_3a  = ctrl.Rule(SGA['Bom']   & IA['Bom']   &  PA['Ruim'],  Status['Reprovada'])\n",
    "Regra_4a  = ctrl.Rule(SGA['Bom']   & IA['Medio'] &  PA['Bom'],   Status['Aprovada'])\n",
    "Regra_5a  = ctrl.Rule(SGA['Bom']   & IA['Medio'] &  PA['Medio'], Status['Aprovada'])\n",
    "Regra_6a  = ctrl.Rule(SGA['Bom']   & IA['Medio'] &  PA['Ruim'],  Status['Reprovada'])\n",
    "Regra_7a  = ctrl.Rule(SGA['Bom']   & IA['Ruim']  &  PA['Bom'],   Status['Reprovada'])\n",
    "Regra_8a  = ctrl.Rule(SGA['Bom']   & IA['Ruim']  &  PA['Medio'], Status['Reprovada'])\n",
    "Regra_9a  = ctrl.Rule(SGA['Bom']   & IA['Ruim']  &  PA['Ruim'], Status['Reprovada'])\n",
    "Regra_10a = ctrl.Rule(SGA['Medio'] & IA['Bom']   &  PA['Bom'],   Status['Aprovada'])\n",
    "Regra_11a = ctrl.Rule(SGA['Medio'] & IA['Bom']   &  PA['Medio'], Status['Aprovada'])\n",
    "Regra_12a = ctrl.Rule(SGA['Medio'] & IA['Bom']   &  PA['Ruim'],  Status['Reprovada'])\n",
    "Regra_13a = ctrl.Rule(SGA['Medio'] & IA['Medio'] &  PA['Bom'],   Status['Aprovada'])\n",
    "Regra_14a = ctrl.Rule(SGA['Medio'] & IA['Medio'] &  PA['Medio'], Status['Reprovada'])\n",
    "Regra_15a = ctrl.Rule(SGA['Medio'] & IA['Medio'] &  PA['Ruim'],  Status['Reprovada'])\n",
    "Regra_16a = ctrl.Rule(SGA['Medio'] & IA['Ruim']  &  PA['Bom'],   Status['Reprovada'])\n",
    "Regra_17a = ctrl.Rule(SGA['Medio'] & IA['Ruim']  &  PA['Medio'], Status['Reprovada'])\n",
    "Regra_18a = ctrl.Rule(SGA['Medio'] & IA['Ruim']  &  PA['Ruim'],  Status['Reprovada'])\n",
    "Regra_19a = ctrl.Rule(SGA['Ruim']  & IA['Bom']   &  PA['Bom'],   Status['Reprovada'])\n",
    "Regra_20a = ctrl.Rule(SGA['Ruim']  & IA['Bom']   &  PA['Medio'], Status['Reprovada'])\n",
    "Regra_21a = ctrl.Rule(SGA['Ruim']  & IA['Bom']   &  PA['Ruim'],  Status['Reprovada'])\n",
    "Regra_22a = ctrl.Rule(SGA['Ruim']  & IA['Medio'] &  PA['Bom'],   Status['Reprovada'])\n",
    "Regra_23a = ctrl.Rule(SGA['Ruim']  & IA['Medio'] &  PA['Medio'], Status['Reprovada'])\n",
    "Regra_24a = ctrl.Rule(SGA['Ruim']  & IA['Medio'] &  PA['Ruim'],  Status['Reprovada'])\n",
    "Regra_25a = ctrl.Rule(SGA['Ruim']  & IA['Ruim']  &  PA['Bom'],   Status['Reprovada'])\n",
    "Regra_26a = ctrl.Rule(SGA['Ruim']  & IA['Ruim']  &  PA['Medio'], Status['Reprovada'])\n",
    "Regra_27a = ctrl.Rule(SGA['Ruim']  & IA['Ruim']  &  PA['Ruim'],  Status['Reprovada'])"
   ]
  },
  {
   "cell_type": "markdown",
   "metadata": {
    "id": "s0bsp5Z1uaZG"
   },
   "source": [
    "### Sistema de controle"
   ]
  },
  {
   "cell_type": "code",
   "execution_count": 18,
   "metadata": {
    "id": "95owU6rNgete"
   },
   "outputs": [],
   "source": [
    "# Aqui estamos ligando as variáveis númericas com as variáveis linguísticas\n",
    "sistema_controle_a = ctrl.ControlSystem([Regra_1a, Regra_2a,  Regra_3a,  Regra_4a,  Regra_5a,  Regra_6a,  Regra_7a,  Regra_8a,  Regra_9a,  Regra_10a,\n",
    "                                         Regra_11a, Regra_12a, Regra_13a, Regra_14a, Regra_15a, Regra_16a, Regra_17a, Regra_18a, Regra_19a, Regra_20a,\n",
    "                                         Regra_21a, Regra_22a, Regra_23a, Regra_24a, Regra_25a, Regra_26a, Regra_27a])\n",
    "sistema_a = ctrl.ControlSystemSimulation(sistema_controle_a)"
   ]
  },
  {
   "cell_type": "markdown",
   "metadata": {},
   "source": [
    "Gerado o sistema, agora podemos atribuir as notas ou scores para fazer defuzzificação.\n",
    "\n",
    "**Notas**: \n",
    "\n",
    "* As notas para cada antecedente (entradas) devem variar entre 0 e 10, onde 0 é pior nota e 10 a maior nota. \n",
    "* Quem e como definir os scores? Geralmente quem define os scores é a equipe de especialistas."
   ]
  },
  {
   "cell_type": "markdown",
   "metadata": {},
   "source": [
    "**Tabela de pontuações dos *critérios ambientais* dos fornecedores**\n",
    "\n",
    "| **FORNECEDORES** | **SGA** | **IA**  | **PA**  |\n",
    "| ---------------- | ------- | ------- | ------- |\n",
    "| Fornecedor A     | 4       | 3.3     | 4       |\n",
    "| Fornecedor B     | 6.8     | 5       | 5.3     |\n",
    "| Fornecedor C     | 7       | 6.4     | 5       |\n",
    "| Fornecedor D     | 7.4     | 6.2     | 7       |\n",
    "| Fornecedor E     | 8.7     | 7       | 9       |\n",
    "| Fornecedor F     | 9       | 8.3     | 6.4     |\n",
    "| Fornecedor G     | 8.2     | 9.5     | 6       |\n",
    "| Fornecedor H     | 10      | 9       | 9       |"
   ]
  },
  {
   "cell_type": "code",
   "execution_count": 42,
   "metadata": {},
   "outputs": [],
   "source": [
    "# Gerar dicionário vazio para capturar os resultados\n",
    "Resultados_a = {}"
   ]
  },
  {
   "cell_type": "code",
   "execution_count": null,
   "metadata": {
    "colab": {
     "base_uri": "https://localhost:8080/",
     "height": 299
    },
    "executionInfo": {
     "elapsed": 1007,
     "status": "ok",
     "timestamp": 1638287109950,
     "user": {
      "displayName": "Jones Granatyr",
      "photoUrl": "https://lh3.googleusercontent.com/a-/AOh14GjjT3qk15vcqTDKl5lRnRie2vXEjfZMzOTVosFEXw=s64",
      "userId": "10042675233362078631"
     },
     "user_tz": 180
    },
    "id": "xlJgqqTQgsFw",
    "outputId": "89244424-e62b-4386-8319-b8db6ef3ad89"
   },
   "outputs": [],
   "source": [
    "# Atribundo os valores de entrada manualmente \n",
    "Nome_Fornecedor = input(\"Nome do fornecedor?\")\n",
    "\n",
    "sistema_a.input['SGA'] = float(input(\"Qual a nota do SGA?\"))\n",
    "sistema_a.input['IA']  = float(input(\"Qual a nota do IA?\"))\n",
    "sistema_a.input['PA']  = float(input(\"Qual a nota do PA?\"))\n",
    "sistema_a.compute()\n",
    "\n",
    "# Popular dicionário\n",
    "Resultados_a[Nome_Fornecedor] = sistema_a.output['Status']\n",
    "\n",
    "# Saída\n",
    "print(sistema_a.output['Status'])\n",
    "Status.view(sim = sistema_a)\n"
   ]
  },
  {
   "cell_type": "code",
   "execution_count": 39,
   "metadata": {},
   "outputs": [
    {
     "name": "stdout",
     "output_type": "stream",
     "text": [
      "{'J': 8.238095238095239, 'L': 8.325252525252527, 'K': 8.444444444444445, 'M': 8.238095238095239, 'N': 8.444444444444445, 'O': 3.7081081081081075}\n"
     ]
    }
   ],
   "source": [
    "# Visualizar resultados\n",
    "print(Resultados_a)"
   ]
  },
  {
   "cell_type": "code",
   "execution_count": 40,
   "metadata": {},
   "outputs": [
    {
     "data": {
      "text/html": [
       "<div>\n",
       "<style scoped>\n",
       "    .dataframe tbody tr th:only-of-type {\n",
       "        vertical-align: middle;\n",
       "    }\n",
       "\n",
       "    .dataframe tbody tr th {\n",
       "        vertical-align: top;\n",
       "    }\n",
       "\n",
       "    .dataframe thead th {\n",
       "        text-align: right;\n",
       "    }\n",
       "</style>\n",
       "<table border=\"1\" class=\"dataframe\">\n",
       "  <thead>\n",
       "    <tr style=\"text-align: right;\">\n",
       "      <th></th>\n",
       "      <th>Nome_Fornecedor</th>\n",
       "      <th>Score_ambiental</th>\n",
       "      <th>Status</th>\n",
       "    </tr>\n",
       "  </thead>\n",
       "  <tbody>\n",
       "    <tr>\n",
       "      <th>2</th>\n",
       "      <td>K</td>\n",
       "      <td>8.444444</td>\n",
       "      <td>Aprovada</td>\n",
       "    </tr>\n",
       "    <tr>\n",
       "      <th>4</th>\n",
       "      <td>N</td>\n",
       "      <td>8.444444</td>\n",
       "      <td>Aprovada</td>\n",
       "    </tr>\n",
       "    <tr>\n",
       "      <th>1</th>\n",
       "      <td>L</td>\n",
       "      <td>8.325253</td>\n",
       "      <td>Aprovada</td>\n",
       "    </tr>\n",
       "    <tr>\n",
       "      <th>0</th>\n",
       "      <td>J</td>\n",
       "      <td>8.238095</td>\n",
       "      <td>Aprovada</td>\n",
       "    </tr>\n",
       "    <tr>\n",
       "      <th>3</th>\n",
       "      <td>M</td>\n",
       "      <td>8.238095</td>\n",
       "      <td>Aprovada</td>\n",
       "    </tr>\n",
       "  </tbody>\n",
       "</table>\n",
       "</div>"
      ],
      "text/plain": [
       "  Nome_Fornecedor  Score_ambiental    Status\n",
       "2               K         8.444444  Aprovada\n",
       "4               N         8.444444  Aprovada\n",
       "1               L         8.325253  Aprovada\n",
       "0               J         8.238095  Aprovada\n",
       "3               M         8.238095  Aprovada"
      ]
     },
     "execution_count": 40,
     "metadata": {},
     "output_type": "execute_result"
    }
   ],
   "source": [
    "# Converter dicionario de resultados para um df\n",
    "data_items = Resultados_a.items()\n",
    "data_list = list(data_items)\n",
    "df_a = pd.DataFrame(data_list)\n",
    "\n",
    "# Renomear colunas\n",
    "df_a = df_a.rename(columns={0: 'Nome_Fornecedor', 1: 'Score_ambiental'})\n",
    "\n",
    "# Converter coluna para numérico\n",
    "df_a['Score_ambiental']=pd.to_numeric(df_a.Score_ambiental)\n",
    "\n",
    "# Ordenar Score\n",
    "df_a = df_a.sort_values(by=['Score_ambiental'], ascending=False)\n",
    "\n",
    "# Gerar regra de aprovado ou reprovado\n",
    "Fornecedores_Reprovados = df_a.loc[(df_a[\"Score_ambiental\"] <=6), \"Nome_Fornecedor\"]\n",
    "df_a[\"Status\"] = \"Aprovada\"\n",
    "df_a.loc[df_a[\"Nome_Fornecedor\"].isin(Fornecedores_Reprovados), \"Status\"] = \"Reprovada\"\n",
    "\n",
    "# Visualizar\n",
    "df_a.head()"
   ]
  },
  {
   "cell_type": "markdown",
   "metadata": {},
   "source": [
    "---------------------------"
   ]
  },
  {
   "cell_type": "markdown",
   "metadata": {},
   "source": [
    "## Critérios Operacionais\n",
    "\n",
    "### Antecedentes e consequente"
   ]
  },
  {
   "cell_type": "code",
   "execution_count": 36,
   "metadata": {},
   "outputs": [],
   "source": [
    "# Gerar os antecedentes, ou seja, os valores de entrada que irão variar de 0 a 10\n",
    "CUSTO     = ctrl.Antecedent(np.arange(0,11,1), 'CUSTO')\n",
    "QUALIDADE = ctrl.Antecedent(np.arange(0,11,1), 'QUALIDADE')\n",
    "ENTREGA   = ctrl.Antecedent(np.arange(0,11,1), 'ENTREGA')\n",
    "\n",
    "# Gerar o consequente, ou seja, os valores de saída \n",
    "# Será o mesmo do ambiental"
   ]
  },
  {
   "cell_type": "markdown",
   "metadata": {},
   "source": [
    "### Membership functions (Pertinência)"
   ]
  },
  {
   "cell_type": "code",
   "execution_count": 37,
   "metadata": {},
   "outputs": [
    {
     "data": {
      "text/plain": [
       "(None, None, None)"
      ]
     },
     "execution_count": 37,
     "metadata": {},
     "output_type": "execute_result"
    },
    {
     "data": {
      "image/png": "[encoded data removed]",
      "text/plain": [
       "<Figure size 432x288 with 1 Axes>"
      ]
     },
     "metadata": {
      "needs_background": "light"
     },
     "output_type": "display_data"
    },
    {
     "data": {
      "image/png": "[encoded data removed]",
      "text/plain": [
       "<Figure size 432x288 with 1 Axes>"
      ]
     },
     "metadata": {
      "needs_background": "light"
     },
     "output_type": "display_data"
    },
    {
     "data": {
      "image/png": "[encoded data removed]",
      "text/plain": [
       "<Figure size 432x288 with 1 Axes>"
      ]
     },
     "metadata": {
      "needs_background": "light"
     },
     "output_type": "display_data"
    }
   ],
   "source": [
    "# Mapeamento dos valores (conversão dos valores para categorias)\n",
    "# Mapeamento (CUSTO)\n",
    "CUSTO['Bom'] = fuzz.pimf(CUSTO.universe, -1, 0, 3, 5)\n",
    "CUSTO['Medio'] = fuzz.trimf(CUSTO.universe, [3, 5, 7])\n",
    "CUSTO['Ruim'] = fuzz.pimf(CUSTO.universe, 5, 7, 10, 11)\n",
    "\n",
    "# Mapeamento (QUALIDADE)\n",
    "QUALIDADE['Ruim'] = fuzz.pimf(QUALIDADE.universe, -1, 0, 6, 7)\n",
    "QUALIDADE['Medio'] = fuzz.trimf(QUALIDADE.universe, [6, 7, 8])\n",
    "QUALIDADE['Bom'] = fuzz.pimf(QUALIDADE.universe, 7, 8, 10, 11)\n",
    "\n",
    "# Mapeamento (ENTREGA)\n",
    "ENTREGA['Ruim'] = fuzz.pimf(ENTREGA.universe, -1, 0, 7, 8)\n",
    "ENTREGA['Medio'] = fuzz.trimf(ENTREGA.universe, [7, 8, 9])\n",
    "ENTREGA['Bom'] = fuzz.pimf(ENTREGA.universe, 8, 9, 10, 11)\n",
    "\n",
    "# Visualizar CUSTO\n",
    "CUSTO.view(), QUALIDADE.view(), ENTREGA.view()"
   ]
  },
  {
   "cell_type": "code",
   "execution_count": 1,
   "metadata": {},
   "outputs": [],
   "source": [
    "# Mapeamento dos valores (Triangulação padrão)            \n",
    "#CUSTO.automf(number = 3, names = ['Bom', 'Medio', 'Ruim'])            \n",
    "#QUALIDADE.automf(number = 3,  names = ['Ruim', 'Medio', 'Bom'])          \n",
    "#ENTREGA.automf(number = 3,  names = ['Ruim', 'Medio', 'Bom'])           \n",
    "\n",
    "# Plotar            \n",
    "#CUSTO.view(), QUALIDADE.view(), ENTREGA.view()"
   ]
  },
  {
   "cell_type": "markdown",
   "metadata": {},
   "source": [
    "### Regras de inferência Fuzzy\n",
    "\n",
    "|           | if    | if        | if      | then           |\n",
    "| --------- | ----- | --------- | ------- | -------------- |\n",
    "| REGRAS    | CUSTO | QUALIDADE | ENTREGA | SAÍDA          |\n",
    "| Regra\\_1  | Bom   | Bom       | Bom     | Selecionar     |\n",
    "| Regra\\_2  | Bom   | Bom       | Médio   | Selecionar     |\n",
    "| Regra\\_3  | Bom   | Bom       | Ruim    | Não Selecionar |\n",
    "| Regra\\_4  | Bom   | Médio     | Bom     | Selecionar     |\n",
    "| Regra\\_5  | Bom   | Médio     | Médio   | Selecionar     |\n",
    "| Regra\\_6  | Bom   | Médio     | Ruim    | Não Selecionar |\n",
    "| Regra\\_7  | Bom   | Ruim      | Bom     | Não Selecionar |\n",
    "| Regra\\_8  | Bom   | Ruim      | Médio   | Não Selecionar |\n",
    "| Regra\\_9  | Bom   | Ruim      | Ruim    | Não Selecionar |\n",
    "| Regra\\_10 | Médio | Bom       | Bom     | Selecionar     |\n",
    "| Regra\\_11 | Médio | Bom       | Médio   | Selecionar     |\n",
    "| Regra\\_12 | Médio | Bom       | Ruim    | Não Selecionar |\n",
    "| Regra\\_13 | Médio | Médio     | Bom     | Selecionar     |\n",
    "| Regra\\_14 | Médio | Médio     | Médio   | Selecionar     |\n",
    "| Regra\\_15 | Médio | Médio     | Ruim    | Não Selecionar |\n",
    "| Regra\\_16 | Médio | Ruim      | Bom     | Não Selecionar |\n",
    "| Regra\\_17 | Médio | Ruim      | Médio   | Não Selecionar |\n",
    "| Regra\\_18 | Médio | Ruim      | Ruim    | Não Selecionar |\n",
    "| Regra\\_19 | Ruim  | Bom       | Bom     | Não Selecionar |\n",
    "| Regra\\_20 | Ruim  | Bom       | Médio   | Não Selecionar |\n",
    "| Regra\\_21 | Ruim  | Bom       | Ruim    | Não Selecionar |\n",
    "| Regra\\_22 | Ruim  | Médio     | Bom     | Não Selecionar |\n",
    "| Regra\\_23 | Ruim  | Médio     | Médio   | Não Selecionar |\n",
    "| Regra\\_24 | Ruim  | Médio     | Ruim    | Não Selecionar |\n",
    "| Regra\\_25 | Ruim  | Ruim      | Bom     | Não Selecionar |\n",
    "| Regra\\_26 | Ruim  | Ruim      | Médio   | Não Selecionar |\n",
    "| Regra\\_27 | Ruim  | Ruim      | Ruim    | Não Selecionar |"
   ]
  },
  {
   "cell_type": "code",
   "execution_count": 43,
   "metadata": {},
   "outputs": [],
   "source": [
    "# Gerando as regras que melhor representam o problema\n",
    "Regra_1b   = ctrl.Rule(CUSTO['Bom']   & QUALIDADE['Bom']   & ENTREGA['Bom'],   Status['Aprovada'])\n",
    "Regra_2b   = ctrl.Rule(CUSTO['Bom']   & QUALIDADE['Bom']   & ENTREGA['Medio'], Status['Aprovada'])\n",
    "Regra_3b   = ctrl.Rule(CUSTO['Bom']   & QUALIDADE['Bom']   & ENTREGA['Ruim'],  Status['Reprovada'])\n",
    "Regra_4b   = ctrl.Rule(CUSTO['Bom']   & QUALIDADE['Medio'] & ENTREGA['Bom'],   Status['Aprovada'])\n",
    "Regra_5b   = ctrl.Rule(CUSTO['Bom']   & QUALIDADE['Medio'] & ENTREGA['Medio'], Status['Aprovada'])\n",
    "Regra_6b   = ctrl.Rule(CUSTO['Bom']   & QUALIDADE['Medio'] & ENTREGA['Ruim'],  Status['Reprovada'])\n",
    "Regra_7b   = ctrl.Rule(CUSTO['Bom']   & QUALIDADE['Ruim']  & ENTREGA['Bom'],   Status['Reprovada'])\n",
    "Regra_8b   = ctrl.Rule(CUSTO['Bom']   & QUALIDADE['Ruim']  & ENTREGA['Medio'], Status['Reprovada'])\n",
    "Regra_9b   = ctrl.Rule(CUSTO['Bom']   & QUALIDADE['Ruim']  & ENTREGA['Ruim'],  Status['Reprovada'])\n",
    "Regra_10b  = ctrl.Rule(CUSTO['Medio'] & QUALIDADE['Bom']   & ENTREGA['Bom'],   Status['Aprovada'])\n",
    "Regra_11b  = ctrl.Rule(CUSTO['Medio'] & QUALIDADE['Bom']   & ENTREGA['Medio'], Status['Aprovada'])\n",
    "Regra_12b  = ctrl.Rule(CUSTO['Medio'] & QUALIDADE['Bom']   & ENTREGA['Ruim'],  Status['Reprovada'])\n",
    "Regra_13b  = ctrl.Rule(CUSTO['Medio'] & QUALIDADE['Medio'] & ENTREGA['Bom'],   Status['Aprovada'])\n",
    "Regra_14b  = ctrl.Rule(CUSTO['Medio'] & QUALIDADE['Medio'] & ENTREGA['Medio'], Status['Aprovada'])\n",
    "Regra_15b  = ctrl.Rule(CUSTO['Medio'] & QUALIDADE['Medio'] & ENTREGA['Ruim'],  Status['Reprovada'])\n",
    "Regra_16b  = ctrl.Rule(CUSTO['Medio'] & QUALIDADE['Ruim']  & ENTREGA['Bom'],   Status['Reprovada'])\n",
    "Regra_17b  = ctrl.Rule(CUSTO['Medio'] & QUALIDADE['Ruim']  & ENTREGA['Medio'], Status['Reprovada'])\n",
    "Regra_18b  = ctrl.Rule(CUSTO['Medio'] & QUALIDADE['Ruim']  & ENTREGA['Ruim'],  Status['Reprovada'])\n",
    "Regra_19b  = ctrl.Rule(CUSTO['Ruim']  & QUALIDADE['Bom']   & ENTREGA['Bom'],   Status['Reprovada'])\n",
    "Regra_20b  = ctrl.Rule(CUSTO['Ruim']  & QUALIDADE['Bom']   & ENTREGA['Medio'], Status['Reprovada'])\n",
    "Regra_21b  = ctrl.Rule(CUSTO['Ruim']  & QUALIDADE['Bom']   & ENTREGA['Ruim'],  Status['Reprovada'])\n",
    "Regra_22b  = ctrl.Rule(CUSTO['Ruim']  & QUALIDADE['Medio'] & ENTREGA['Bom'],   Status['Reprovada'])\n",
    "Regra_23b  = ctrl.Rule(CUSTO['Ruim']  & QUALIDADE['Medio'] & ENTREGA['Medio'], Status['Reprovada'])\n",
    "Regra_24b  = ctrl.Rule(CUSTO['Ruim']  & QUALIDADE['Medio'] & ENTREGA['Ruim'],  Status['Reprovada'])\n",
    "Regra_25b  = ctrl.Rule(CUSTO['Ruim']  & QUALIDADE['Ruim']  & ENTREGA['Bom'],   Status['Reprovada'])\n",
    "Regra_26b  = ctrl.Rule(CUSTO['Ruim']  & QUALIDADE['Ruim']  & ENTREGA['Medio'], Status['Reprovada'])\n",
    "Regra_27b  = ctrl.Rule(CUSTO['Ruim']  & QUALIDADE['Ruim']  & ENTREGA['Ruim'],  Status['Reprovada'])"
   ]
  },
  {
   "cell_type": "code",
   "execution_count": 44,
   "metadata": {},
   "outputs": [],
   "source": [
    "# Aqui estamos ligando as variáveis númericas com as variáveis linguísticas\n",
    "sistema_controle_b = ctrl.ControlSystem([Regra_1b, Regra_2b,  Regra_3b,  Regra_4b,  Regra_5b,  Regra_6b,  Regra_7b,  Regra_8b,  Regra_9b,  Regra_10b,\n",
    "                                      Regra_11b, Regra_12b, Regra_13b, Regra_14b, Regra_15b, Regra_16b, Regra_17b, Regra_18b, Regra_19b, Regra_20b,\n",
    "                                      Regra_21b, Regra_22b, Regra_23b, Regra_24b, Regra_25b, Regra_26b, Regra_27b])\n",
    "sistema_b = ctrl.ControlSystemSimulation(sistema_controle_b)"
   ]
  },
  {
   "cell_type": "markdown",
   "metadata": {},
   "source": [
    "**Tabela de pontuações dos *critérios ambientais* dos fornecedores**\n",
    "\n",
    "| **FORNECEDOR** | **CUSTO** | **QUALIDADE** | **ENTREGA** |\n",
    "| ---------- | ----- | --------- | ------- |\n",
    "| A          | 2.5   | 8.4       | 6.5     |\n",
    "| B          | 7.9   | 6.7       | 5.1     |\n",
    "| C          | 5.1   | 7.8       | 4.4     |\n",
    "| D          | 8.7   | 5.0       | 9.7     |\n",
    "| E          | 9.5   | 9.0       | 8.6     |\n",
    "| F          | 2.9   | 7.5       | 4.0     |\n",
    "| G          | 8.5   | 1.2       | 2.6     |\n",
    "| H          | 4.9   | 8.8       | 2.2     |\n",
    "| I          | 2.3   | 5.1       | 4.9     |\n",
    "| J          | 0.5   | 8.0       | 7.0     |\n",
    "| K          | 3.0   | 7.2       | 7.8     |\n",
    "| L          | 1.6   | 9.6       | 8.0     |\n",
    "| M          | 2.2   | 9.2       | 9.1     |\n",
    "| N          | 7.8   | 8.6       | 8.1     |\n",
    "| O          | 9.2   | 7.1       | 1.2     |"
   ]
  },
  {
   "cell_type": "code",
   "execution_count": 53,
   "metadata": {},
   "outputs": [],
   "source": [
    "# Gerar dicionário vazio para capturar os resultados\n",
    "Resultados_b = {}"
   ]
  },
  {
   "cell_type": "code",
   "execution_count": 63,
   "metadata": {},
   "outputs": [
    {
     "name": "stdin",
     "output_type": "stream",
     "text": [
      "Nome do fornecedor? O\n",
      "Qual a nota do CUSTO? 9.2\n",
      "Qual a nota da QUALIDADE? 7.1\n",
      "Qual a nota da ENTREGA? 1.2\n"
     ]
    },
    {
     "name": "stdout",
     "output_type": "stream",
     "text": [
      "3.691559598167222\n"
     ]
    },
    {
     "data": {
      "image/png": "[encoded data removed]",
      "text/plain": [
       "<Figure size 432x288 with 1 Axes>"
      ]
     },
     "metadata": {
      "needs_background": "light"
     },
     "output_type": "display_data"
    }
   ],
   "source": [
    "# Atribundo os valores de entrada que variam de 0 a 10\n",
    "Nome_Fornecedor = input(\"Nome do fornecedor?\")\n",
    "\n",
    "sistema_b.input['CUSTO'] = float(input(\"Qual a nota do CUSTO?\"))\n",
    "sistema_b.input['QUALIDADE'] = float(input(\"Qual a nota da QUALIDADE?\"))\n",
    "sistema_b.input['ENTREGA'] = float(input(\"Qual a nota da ENTREGA?\"))\n",
    "sistema_b.compute()\n",
    "\n",
    "# Popular dicionário\n",
    "Resultados_b[Nome_Fornecedor] = sistema_b.output['Status']\n",
    "\n",
    "# Saída\n",
    "print(sistema_b.output['Status'])\n",
    "Status.view(sim = sistema_b)"
   ]
  },
  {
   "cell_type": "code",
   "execution_count": 64,
   "metadata": {},
   "outputs": [
    {
     "name": "stdout",
     "output_type": "stream",
     "text": [
      "{'K': 6.982016432666212, 'L': 7.017556033936938, 'M': 6.982016432666212, 'N': 4.703488103958977, 'O': 3.691559598167222}\n"
     ]
    }
   ],
   "source": [
    "# Visualizar resultados\n",
    "print(Resultados_b)"
   ]
  },
  {
   "cell_type": "code",
   "execution_count": 66,
   "metadata": {},
   "outputs": [
    {
     "data": {
      "text/html": [
       "<div>\n",
       "<style scoped>\n",
       "    .dataframe tbody tr th:only-of-type {\n",
       "        vertical-align: middle;\n",
       "    }\n",
       "\n",
       "    .dataframe tbody tr th {\n",
       "        vertical-align: top;\n",
       "    }\n",
       "\n",
       "    .dataframe thead th {\n",
       "        text-align: right;\n",
       "    }\n",
       "</style>\n",
       "<table border=\"1\" class=\"dataframe\">\n",
       "  <thead>\n",
       "    <tr style=\"text-align: right;\">\n",
       "      <th></th>\n",
       "      <th>Nome_Fornecedor</th>\n",
       "      <th>Score_operacional</th>\n",
       "      <th>Status</th>\n",
       "    </tr>\n",
       "  </thead>\n",
       "  <tbody>\n",
       "    <tr>\n",
       "      <th>1</th>\n",
       "      <td>L</td>\n",
       "      <td>7.017556</td>\n",
       "      <td>Aprovada</td>\n",
       "    </tr>\n",
       "    <tr>\n",
       "      <th>0</th>\n",
       "      <td>K</td>\n",
       "      <td>6.982016</td>\n",
       "      <td>Aprovada</td>\n",
       "    </tr>\n",
       "    <tr>\n",
       "      <th>2</th>\n",
       "      <td>M</td>\n",
       "      <td>6.982016</td>\n",
       "      <td>Aprovada</td>\n",
       "    </tr>\n",
       "    <tr>\n",
       "      <th>3</th>\n",
       "      <td>N</td>\n",
       "      <td>4.703488</td>\n",
       "      <td>Reprovada</td>\n",
       "    </tr>\n",
       "    <tr>\n",
       "      <th>4</th>\n",
       "      <td>O</td>\n",
       "      <td>3.691560</td>\n",
       "      <td>Reprovada</td>\n",
       "    </tr>\n",
       "  </tbody>\n",
       "</table>\n",
       "</div>"
      ],
      "text/plain": [
       "  Nome_Fornecedor  Score_operacional     Status\n",
       "1               L           7.017556   Aprovada\n",
       "0               K           6.982016   Aprovada\n",
       "2               M           6.982016   Aprovada\n",
       "3               N           4.703488  Reprovada\n",
       "4               O           3.691560  Reprovada"
      ]
     },
     "execution_count": 66,
     "metadata": {},
     "output_type": "execute_result"
    }
   ],
   "source": [
    "# Converter dicionario de resultados para um df\n",
    "data_items = Resultados_b.items()\n",
    "data_list = list(data_items)\n",
    "df_b = pd.DataFrame(data_list)\n",
    "\n",
    "# Renomear colunas\n",
    "df_b = df_b.rename(columns={0: 'Nome_Fornecedor', 1: 'Score_operacional'})\n",
    "\n",
    "# Converter coluna para numérico\n",
    "df_b['Score_operacional']=pd.to_numeric(df_b.Score_operacional)\n",
    "\n",
    "# Ordenar Score\n",
    "df_b = df_b.sort_values(by=['Score_operacional'], ascending=False)\n",
    "\n",
    "# Gerar regra de aprovado ou reprovado\n",
    "Fornecedores_Reprovados = df_b.loc[(df_b[\"Score_operacional\"] <=6), \"Nome_Fornecedor\"]\n",
    "df_b[\"Status\"] = \"Aprovada\"\n",
    "df_b.loc[df_b[\"Nome_Fornecedor\"].isin(Fornecedores_Reprovados), \"Status\"] = \"Reprovada\"\n",
    "\n",
    "# Visualizar\n",
    "df_b.head()"
   ]
  },
  {
   "cell_type": "markdown",
   "metadata": {},
   "source": [
    "### Ver resultados do ambiental e operacional"
   ]
  },
  {
   "cell_type": "code",
   "execution_count": 67,
   "metadata": {},
   "outputs": [
    {
     "data": {
      "text/plain": [
       "(  Nome_Fornecedor  Score_ambiental     Status\n",
       " 3               N         7.181896   Aprovada\n",
       " 2               M         6.592691   Aprovada\n",
       " 0               K         6.185690   Aprovada\n",
       " 1               L         6.041431   Aprovada\n",
       " 4               O         4.506921  Reprovada,\n",
       "   Nome_Fornecedor  Score_operacional     Status\n",
       " 1               L           7.017556   Aprovada\n",
       " 0               K           6.982016   Aprovada\n",
       " 2               M           6.982016   Aprovada\n",
       " 3               N           4.703488  Reprovada\n",
       " 4               O           3.691560  Reprovada)"
      ]
     },
     "execution_count": 67,
     "metadata": {},
     "output_type": "execute_result"
    }
   ],
   "source": [
    "df_a.head(), df_b.head()"
   ]
  },
  {
   "cell_type": "code",
   "execution_count": 73,
   "metadata": {},
   "outputs": [
    {
     "data": {
      "text/html": [
       "<div>\n",
       "<style scoped>\n",
       "    .dataframe tbody tr th:only-of-type {\n",
       "        vertical-align: middle;\n",
       "    }\n",
       "\n",
       "    .dataframe tbody tr th {\n",
       "        vertical-align: top;\n",
       "    }\n",
       "\n",
       "    .dataframe thead th {\n",
       "        text-align: right;\n",
       "    }\n",
       "</style>\n",
       "<table border=\"1\" class=\"dataframe\">\n",
       "  <thead>\n",
       "    <tr style=\"text-align: right;\">\n",
       "      <th></th>\n",
       "      <th>Nome_Fornecedor</th>\n",
       "      <th>Score_ambiental</th>\n",
       "      <th>Status_x</th>\n",
       "      <th>Score_operacional</th>\n",
       "      <th>Status_y</th>\n",
       "      <th>Media_Ponderada_Score</th>\n",
       "      <th>Media_Aritmetica_Scores</th>\n",
       "    </tr>\n",
       "  </thead>\n",
       "  <tbody>\n",
       "    <tr>\n",
       "      <th>1</th>\n",
       "      <td>M</td>\n",
       "      <td>6.592691</td>\n",
       "      <td>Aprovada</td>\n",
       "      <td>6.982016</td>\n",
       "      <td>Aprovada</td>\n",
       "      <td>6.826286</td>\n",
       "      <td>6.787354</td>\n",
       "    </tr>\n",
       "    <tr>\n",
       "      <th>2</th>\n",
       "      <td>K</td>\n",
       "      <td>6.185690</td>\n",
       "      <td>Aprovada</td>\n",
       "      <td>6.982016</td>\n",
       "      <td>Aprovada</td>\n",
       "      <td>6.663486</td>\n",
       "      <td>6.583853</td>\n",
       "    </tr>\n",
       "    <tr>\n",
       "      <th>3</th>\n",
       "      <td>L</td>\n",
       "      <td>6.041431</td>\n",
       "      <td>Aprovada</td>\n",
       "      <td>7.017556</td>\n",
       "      <td>Aprovada</td>\n",
       "      <td>6.627106</td>\n",
       "      <td>6.529494</td>\n",
       "    </tr>\n",
       "    <tr>\n",
       "      <th>0</th>\n",
       "      <td>N</td>\n",
       "      <td>7.181896</td>\n",
       "      <td>Aprovada</td>\n",
       "      <td>4.703488</td>\n",
       "      <td>Reprovada</td>\n",
       "      <td>5.694851</td>\n",
       "      <td>5.942692</td>\n",
       "    </tr>\n",
       "    <tr>\n",
       "      <th>4</th>\n",
       "      <td>O</td>\n",
       "      <td>4.506921</td>\n",
       "      <td>Reprovada</td>\n",
       "      <td>3.691560</td>\n",
       "      <td>Reprovada</td>\n",
       "      <td>4.017704</td>\n",
       "      <td>4.099240</td>\n",
       "    </tr>\n",
       "  </tbody>\n",
       "</table>\n",
       "</div>"
      ],
      "text/plain": [
       "  Nome_Fornecedor  Score_ambiental   Status_x  Score_operacional   Status_y  \\\n",
       "1               M         6.592691   Aprovada           6.982016   Aprovada   \n",
       "2               K         6.185690   Aprovada           6.982016   Aprovada   \n",
       "3               L         6.041431   Aprovada           7.017556   Aprovada   \n",
       "0               N         7.181896   Aprovada           4.703488  Reprovada   \n",
       "4               O         4.506921  Reprovada           3.691560  Reprovada   \n",
       "\n",
       "   Media_Ponderada_Score  Media_Aritmetica_Scores  \n",
       "1               6.826286                 6.787354  \n",
       "2               6.663486                 6.583853  \n",
       "3               6.627106                 6.529494  \n",
       "0               5.694851                 5.942692  \n",
       "4               4.017704                 4.099240  "
      ]
     },
     "execution_count": 73,
     "metadata": {},
     "output_type": "execute_result"
    }
   ],
   "source": [
    "# Unindo scores\n",
    "df_c = pd.merge(df_a, df_b,on='Nome_Fornecedor')\n",
    "\n",
    "# Gerar médias ponderadas e aritimética\n",
    "df_c['Score_op_peso']  = df_c['Score_operacional'] * 3\n",
    "df_c['Score_amb_peso'] = df_c['Score_ambiental'] * 2\n",
    "df_c['Media_Ponderada_Score'] = (df_c['Score_op_peso'] + df_c['Score_amb_peso']) / 5\n",
    "df_c['Media_Aritmetica_Scores'] = df_c[['Score_operacional', 'Score_ambiental']].mean(axis=1)\n",
    "\n",
    "# Ordenar Score\n",
    "df_c = df_c.sort_values(by=['Media_Ponderada_Score'], ascending=False)\n",
    "\n",
    "# Dropar e Visualizar\n",
    "df_c.drop(columns=['Score_op_peso', 'Score_amb_peso'])"
   ]
  },
  {
   "cell_type": "code",
   "execution_count": null,
   "metadata": {},
   "outputs": [],
   "source": []
  },
  {
   "cell_type": "markdown",
   "metadata": {},
   "source": [
    "## Referências \n",
    "\n",
    "- [1] http://www.abepro.org.br/biblioteca/TN_STO_226_319_29407.pdf\n",
    "- [2] https://www.pucsp.br/~logica/Fuzzy.htm\n",
    "- [3] https://www.scientificamerican.com/article/what-is-fuzzy-logic-are-t/\n",
    "- [4] https://medium.com/creditas-tech/combinando-modelos-de-machine-learning-com-l%C3%B3gica-fuzzy-parte-1-b5a9f0761a5d\n",
    "\n",
    "\n",
    "ZADEH, Lotfi Asker; KLIR, George J.; YUAN, Bo. Fuzzy sets, fuzzy logic, and fuzzy systems: selected papers. World Scientific, 1996. "
   ]
  },
  {
   "cell_type": "code",
   "execution_count": null,
   "metadata": {},
   "outputs": [],
   "source": []
  }
 ],
 "metadata": {
  "colab": {
   "name": "Cópia de Lógica Fuzzy com Python: O Guia para Iniciantes: Exemplo aspirador de pó.ipynb",
   "provenance": [
    {
     "file_id": "1etqtnRbMaVWVfe-7dPENwZKxywYBMjDi",
     "timestamp": 1642714356908
    },
    {
     "file_id": "1JuJdrUlWQCtqVUJo-x57-W5lGzId7oRW",
     "timestamp": 1638282898671
    },
    {
     "file_id": "1-FikLfO7UJT5yLOrPnLl5RCTEtrtszt4",
     "timestamp": 1637772768409
    },
    {
     "file_id": "1Vr8bXwhih2Ywt5gvzT8hesB5LmLxG1mc",
     "timestamp": 1637760084666
    },
    {
     "file_id": "1DkhHSgEiQPUxVAfBkK-TW8kSBBMC-_fB",
     "timestamp": 1598361960329
    }
   ]
  },
  "kernelspec": {
   "display_name": "Python 3",
   "language": "python",
   "name": "python3"
  },
  "language_info": {
   "codemirror_mode": {
    "name": "ipython",
    "version": 3
   },
   "file_extension": ".py",
   "mimetype": "text/x-python",
   "name": "python",
   "nbconvert_exporter": "python",
   "pygments_lexer": "ipython3",
   "version": "3.8.8"
  }
 },
 "nbformat": 4,
 "nbformat_minor": 4
}
